{
  "cells": [
    {
      "cell_type": "markdown",
      "metadata": {
        "id": "HQzl21ZbHc8I"
      },
      "source": [
        "# 1. Download the dataset: Dataset"
      ]
    },
    {
      "cell_type": "markdown",
      "metadata": {
        "id": "vqdQ4WuwHc8M"
      },
      "source": [
        "# 2. Load the dataset."
      ]
    },
    {
      "cell_type": "code",
      "execution_count": 35,
      "metadata": {
        "id": "uS6EvSDCHc8O"
      },
      "outputs": [],
      "source": [
        "import pandas as pd\n",
        "import numpy as np\n",
        "import matplotlib.pyplot as plt"
      ]
    },
    {
      "cell_type": "code",
      "execution_count": 6,
      "metadata": {
        "id": "9jeAoAhHHc8Q",
        "outputId": "8787be6e-35a4-4ac8-c980-3f6b3d585cc6",
        "colab": {
          "base_uri": "https://localhost:8080/",
          "height": 206
        }
      },
      "outputs": [
        {
          "output_type": "execute_result",
          "data": {
            "text/plain": [
              "   CustomerID  Gender  Age  Annual Income (k$)  Spending Score (1-100)\n",
              "0           1    Male   19                  15                      39\n",
              "1           2    Male   21                  15                      81\n",
              "2           3  Female   20                  16                       6\n",
              "3           4  Female   23                  16                      77\n",
              "4           5  Female   31                  17                      40"
            ],
            "text/html": [
              "\n",
              "  <div id=\"df-7b3e5478-864c-4165-bf2d-ffe66016b4ba\">\n",
              "    <div class=\"colab-df-container\">\n",
              "      <div>\n",
              "<style scoped>\n",
              "    .dataframe tbody tr th:only-of-type {\n",
              "        vertical-align: middle;\n",
              "    }\n",
              "\n",
              "    .dataframe tbody tr th {\n",
              "        vertical-align: top;\n",
              "    }\n",
              "\n",
              "    .dataframe thead th {\n",
              "        text-align: right;\n",
              "    }\n",
              "</style>\n",
              "<table border=\"1\" class=\"dataframe\">\n",
              "  <thead>\n",
              "    <tr style=\"text-align: right;\">\n",
              "      <th></th>\n",
              "      <th>CustomerID</th>\n",
              "      <th>Gender</th>\n",
              "      <th>Age</th>\n",
              "      <th>Annual Income (k$)</th>\n",
              "      <th>Spending Score (1-100)</th>\n",
              "    </tr>\n",
              "  </thead>\n",
              "  <tbody>\n",
              "    <tr>\n",
              "      <th>0</th>\n",
              "      <td>1</td>\n",
              "      <td>Male</td>\n",
              "      <td>19</td>\n",
              "      <td>15</td>\n",
              "      <td>39</td>\n",
              "    </tr>\n",
              "    <tr>\n",
              "      <th>1</th>\n",
              "      <td>2</td>\n",
              "      <td>Male</td>\n",
              "      <td>21</td>\n",
              "      <td>15</td>\n",
              "      <td>81</td>\n",
              "    </tr>\n",
              "    <tr>\n",
              "      <th>2</th>\n",
              "      <td>3</td>\n",
              "      <td>Female</td>\n",
              "      <td>20</td>\n",
              "      <td>16</td>\n",
              "      <td>6</td>\n",
              "    </tr>\n",
              "    <tr>\n",
              "      <th>3</th>\n",
              "      <td>4</td>\n",
              "      <td>Female</td>\n",
              "      <td>23</td>\n",
              "      <td>16</td>\n",
              "      <td>77</td>\n",
              "    </tr>\n",
              "    <tr>\n",
              "      <th>4</th>\n",
              "      <td>5</td>\n",
              "      <td>Female</td>\n",
              "      <td>31</td>\n",
              "      <td>17</td>\n",
              "      <td>40</td>\n",
              "    </tr>\n",
              "  </tbody>\n",
              "</table>\n",
              "</div>\n",
              "      <button class=\"colab-df-convert\" onclick=\"convertToInteractive('df-7b3e5478-864c-4165-bf2d-ffe66016b4ba')\"\n",
              "              title=\"Convert this dataframe to an interactive table.\"\n",
              "              style=\"display:none;\">\n",
              "        \n",
              "  <svg xmlns=\"http://www.w3.org/2000/svg\" height=\"24px\"viewBox=\"0 0 24 24\"\n",
              "       width=\"24px\">\n",
              "    <path d=\"M0 0h24v24H0V0z\" fill=\"none\"/>\n",
              "    <path d=\"M18.56 5.44l.94 2.06.94-2.06 2.06-.94-2.06-.94-.94-2.06-.94 2.06-2.06.94zm-11 1L8.5 8.5l.94-2.06 2.06-.94-2.06-.94L8.5 2.5l-.94 2.06-2.06.94zm10 10l.94 2.06.94-2.06 2.06-.94-2.06-.94-.94-2.06-.94 2.06-2.06.94z\"/><path d=\"M17.41 7.96l-1.37-1.37c-.4-.4-.92-.59-1.43-.59-.52 0-1.04.2-1.43.59L10.3 9.45l-7.72 7.72c-.78.78-.78 2.05 0 2.83L4 21.41c.39.39.9.59 1.41.59.51 0 1.02-.2 1.41-.59l7.78-7.78 2.81-2.81c.8-.78.8-2.07 0-2.86zM5.41 20L4 18.59l7.72-7.72 1.47 1.35L5.41 20z\"/>\n",
              "  </svg>\n",
              "      </button>\n",
              "      \n",
              "  <style>\n",
              "    .colab-df-container {\n",
              "      display:flex;\n",
              "      flex-wrap:wrap;\n",
              "      gap: 12px;\n",
              "    }\n",
              "\n",
              "    .colab-df-convert {\n",
              "      background-color: #E8F0FE;\n",
              "      border: none;\n",
              "      border-radius: 50%;\n",
              "      cursor: pointer;\n",
              "      display: none;\n",
              "      fill: #1967D2;\n",
              "      height: 32px;\n",
              "      padding: 0 0 0 0;\n",
              "      width: 32px;\n",
              "    }\n",
              "\n",
              "    .colab-df-convert:hover {\n",
              "      background-color: #E2EBFA;\n",
              "      box-shadow: 0px 1px 2px rgba(60, 64, 67, 0.3), 0px 1px 3px 1px rgba(60, 64, 67, 0.15);\n",
              "      fill: #174EA6;\n",
              "    }\n",
              "\n",
              "    [theme=dark] .colab-df-convert {\n",
              "      background-color: #3B4455;\n",
              "      fill: #D2E3FC;\n",
              "    }\n",
              "\n",
              "    [theme=dark] .colab-df-convert:hover {\n",
              "      background-color: #434B5C;\n",
              "      box-shadow: 0px 1px 3px 1px rgba(0, 0, 0, 0.15);\n",
              "      filter: drop-shadow(0px 1px 2px rgba(0, 0, 0, 0.3));\n",
              "      fill: #FFFFFF;\n",
              "    }\n",
              "  </style>\n",
              "\n",
              "      <script>\n",
              "        const buttonEl =\n",
              "          document.querySelector('#df-7b3e5478-864c-4165-bf2d-ffe66016b4ba button.colab-df-convert');\n",
              "        buttonEl.style.display =\n",
              "          google.colab.kernel.accessAllowed ? 'block' : 'none';\n",
              "\n",
              "        async function convertToInteractive(key) {\n",
              "          const element = document.querySelector('#df-7b3e5478-864c-4165-bf2d-ffe66016b4ba');\n",
              "          const dataTable =\n",
              "            await google.colab.kernel.invokeFunction('convertToInteractive',\n",
              "                                                     [key], {});\n",
              "          if (!dataTable) return;\n",
              "\n",
              "          const docLinkHtml = 'Like what you see? Visit the ' +\n",
              "            '<a target=\"_blank\" href=https://colab.research.google.com/notebooks/data_table.ipynb>data table notebook</a>'\n",
              "            + ' to learn more about interactive tables.';\n",
              "          element.innerHTML = '';\n",
              "          dataTable['output_type'] = 'display_data';\n",
              "          await google.colab.output.renderOutput(dataTable, element);\n",
              "          const docLink = document.createElement('div');\n",
              "          docLink.innerHTML = docLinkHtml;\n",
              "          element.appendChild(docLink);\n",
              "        }\n",
              "      </script>\n",
              "    </div>\n",
              "  </div>\n",
              "  "
            ]
          },
          "metadata": {},
          "execution_count": 6
        }
      ],
      "source": [
        "file=pd.read_csv(\"Mall_Customers.csv\")\n",
        "df=pd.DataFrame(file)\n",
        "df.head()"
      ]
    },
    {
      "cell_type": "code",
      "execution_count": 7,
      "metadata": {
        "id": "4zGay9YVHc8S"
      },
      "outputs": [],
      "source": [
        "df['Gender'] = df['Gender'].astype('category')"
      ]
    },
    {
      "cell_type": "code",
      "execution_count": 8,
      "metadata": {
        "id": "0vZPO4J5Hc8W",
        "outputId": "f4b14281-2cb3-4823-f4c2-9724d3a95174",
        "colab": {
          "base_uri": "https://localhost:8080/",
          "height": 206
        }
      },
      "outputs": [
        {
          "output_type": "execute_result",
          "data": {
            "text/plain": [
              "   CustomerID  Gender  Age  Annual Income (k$)  Spending Score (1-100)\n",
              "0           1    Male   19                  15                      39\n",
              "1           2    Male   21                  15                      81\n",
              "2           3  Female   20                  16                       6\n",
              "3           4  Female   23                  16                      77\n",
              "4           5  Female   31                  17                      40"
            ],
            "text/html": [
              "\n",
              "  <div id=\"df-494a903a-c5f8-4956-a4ac-55efa99fb3b3\">\n",
              "    <div class=\"colab-df-container\">\n",
              "      <div>\n",
              "<style scoped>\n",
              "    .dataframe tbody tr th:only-of-type {\n",
              "        vertical-align: middle;\n",
              "    }\n",
              "\n",
              "    .dataframe tbody tr th {\n",
              "        vertical-align: top;\n",
              "    }\n",
              "\n",
              "    .dataframe thead th {\n",
              "        text-align: right;\n",
              "    }\n",
              "</style>\n",
              "<table border=\"1\" class=\"dataframe\">\n",
              "  <thead>\n",
              "    <tr style=\"text-align: right;\">\n",
              "      <th></th>\n",
              "      <th>CustomerID</th>\n",
              "      <th>Gender</th>\n",
              "      <th>Age</th>\n",
              "      <th>Annual Income (k$)</th>\n",
              "      <th>Spending Score (1-100)</th>\n",
              "    </tr>\n",
              "  </thead>\n",
              "  <tbody>\n",
              "    <tr>\n",
              "      <th>0</th>\n",
              "      <td>1</td>\n",
              "      <td>Male</td>\n",
              "      <td>19</td>\n",
              "      <td>15</td>\n",
              "      <td>39</td>\n",
              "    </tr>\n",
              "    <tr>\n",
              "      <th>1</th>\n",
              "      <td>2</td>\n",
              "      <td>Male</td>\n",
              "      <td>21</td>\n",
              "      <td>15</td>\n",
              "      <td>81</td>\n",
              "    </tr>\n",
              "    <tr>\n",
              "      <th>2</th>\n",
              "      <td>3</td>\n",
              "      <td>Female</td>\n",
              "      <td>20</td>\n",
              "      <td>16</td>\n",
              "      <td>6</td>\n",
              "    </tr>\n",
              "    <tr>\n",
              "      <th>3</th>\n",
              "      <td>4</td>\n",
              "      <td>Female</td>\n",
              "      <td>23</td>\n",
              "      <td>16</td>\n",
              "      <td>77</td>\n",
              "    </tr>\n",
              "    <tr>\n",
              "      <th>4</th>\n",
              "      <td>5</td>\n",
              "      <td>Female</td>\n",
              "      <td>31</td>\n",
              "      <td>17</td>\n",
              "      <td>40</td>\n",
              "    </tr>\n",
              "  </tbody>\n",
              "</table>\n",
              "</div>\n",
              "      <button class=\"colab-df-convert\" onclick=\"convertToInteractive('df-494a903a-c5f8-4956-a4ac-55efa99fb3b3')\"\n",
              "              title=\"Convert this dataframe to an interactive table.\"\n",
              "              style=\"display:none;\">\n",
              "        \n",
              "  <svg xmlns=\"http://www.w3.org/2000/svg\" height=\"24px\"viewBox=\"0 0 24 24\"\n",
              "       width=\"24px\">\n",
              "    <path d=\"M0 0h24v24H0V0z\" fill=\"none\"/>\n",
              "    <path d=\"M18.56 5.44l.94 2.06.94-2.06 2.06-.94-2.06-.94-.94-2.06-.94 2.06-2.06.94zm-11 1L8.5 8.5l.94-2.06 2.06-.94-2.06-.94L8.5 2.5l-.94 2.06-2.06.94zm10 10l.94 2.06.94-2.06 2.06-.94-2.06-.94-.94-2.06-.94 2.06-2.06.94z\"/><path d=\"M17.41 7.96l-1.37-1.37c-.4-.4-.92-.59-1.43-.59-.52 0-1.04.2-1.43.59L10.3 9.45l-7.72 7.72c-.78.78-.78 2.05 0 2.83L4 21.41c.39.39.9.59 1.41.59.51 0 1.02-.2 1.41-.59l7.78-7.78 2.81-2.81c.8-.78.8-2.07 0-2.86zM5.41 20L4 18.59l7.72-7.72 1.47 1.35L5.41 20z\"/>\n",
              "  </svg>\n",
              "      </button>\n",
              "      \n",
              "  <style>\n",
              "    .colab-df-container {\n",
              "      display:flex;\n",
              "      flex-wrap:wrap;\n",
              "      gap: 12px;\n",
              "    }\n",
              "\n",
              "    .colab-df-convert {\n",
              "      background-color: #E8F0FE;\n",
              "      border: none;\n",
              "      border-radius: 50%;\n",
              "      cursor: pointer;\n",
              "      display: none;\n",
              "      fill: #1967D2;\n",
              "      height: 32px;\n",
              "      padding: 0 0 0 0;\n",
              "      width: 32px;\n",
              "    }\n",
              "\n",
              "    .colab-df-convert:hover {\n",
              "      background-color: #E2EBFA;\n",
              "      box-shadow: 0px 1px 2px rgba(60, 64, 67, 0.3), 0px 1px 3px 1px rgba(60, 64, 67, 0.15);\n",
              "      fill: #174EA6;\n",
              "    }\n",
              "\n",
              "    [theme=dark] .colab-df-convert {\n",
              "      background-color: #3B4455;\n",
              "      fill: #D2E3FC;\n",
              "    }\n",
              "\n",
              "    [theme=dark] .colab-df-convert:hover {\n",
              "      background-color: #434B5C;\n",
              "      box-shadow: 0px 1px 3px 1px rgba(0, 0, 0, 0.15);\n",
              "      filter: drop-shadow(0px 1px 2px rgba(0, 0, 0, 0.3));\n",
              "      fill: #FFFFFF;\n",
              "    }\n",
              "  </style>\n",
              "\n",
              "      <script>\n",
              "        const buttonEl =\n",
              "          document.querySelector('#df-494a903a-c5f8-4956-a4ac-55efa99fb3b3 button.colab-df-convert');\n",
              "        buttonEl.style.display =\n",
              "          google.colab.kernel.accessAllowed ? 'block' : 'none';\n",
              "\n",
              "        async function convertToInteractive(key) {\n",
              "          const element = document.querySelector('#df-494a903a-c5f8-4956-a4ac-55efa99fb3b3');\n",
              "          const dataTable =\n",
              "            await google.colab.kernel.invokeFunction('convertToInteractive',\n",
              "                                                     [key], {});\n",
              "          if (!dataTable) return;\n",
              "\n",
              "          const docLinkHtml = 'Like what you see? Visit the ' +\n",
              "            '<a target=\"_blank\" href=https://colab.research.google.com/notebooks/data_table.ipynb>data table notebook</a>'\n",
              "            + ' to learn more about interactive tables.';\n",
              "          element.innerHTML = '';\n",
              "          dataTable['output_type'] = 'display_data';\n",
              "          await google.colab.output.renderOutput(dataTable, element);\n",
              "          const docLink = document.createElement('div');\n",
              "          docLink.innerHTML = docLinkHtml;\n",
              "          element.appendChild(docLink);\n",
              "        }\n",
              "      </script>\n",
              "    </div>\n",
              "  </div>\n",
              "  "
            ]
          },
          "metadata": {},
          "execution_count": 8
        }
      ],
      "source": [
        "df.head()"
      ]
    },
    {
      "cell_type": "markdown",
      "metadata": {
        "id": "S2-tzovwHc8X"
      },
      "source": [
        "# 3. Perform Below Visualizations.\n",
        "# ● Univariate Analysis\n",
        "# ● Bi - Variate Analysis\n",
        "# ● Multi - Variate Analysis"
      ]
    },
    {
      "cell_type": "code",
      "source": [
        "import seaborn as sns\n",
        "sns.countplot(df['Gender'])"
      ],
      "metadata": {
        "colab": {
          "base_uri": "https://localhost:8080/",
          "height": 351
        },
        "id": "wdoKz91X8DTt",
        "outputId": "9559dd75-bbd1-4065-9cb5-dc5b71c64b2b"
      },
      "execution_count": 19,
      "outputs": [
        {
          "output_type": "stream",
          "name": "stderr",
          "text": [
            "/usr/local/lib/python3.7/dist-packages/seaborn/_decorators.py:43: FutureWarning: Pass the following variable as a keyword arg: x. From version 0.12, the only valid positional argument will be `data`, and passing other arguments without an explicit keyword will result in an error or misinterpretation.\n",
            "  FutureWarning\n"
          ]
        },
        {
          "output_type": "execute_result",
          "data": {
            "text/plain": [
              "<matplotlib.axes._subplots.AxesSubplot at 0x7f47eaad7150>"
            ]
          },
          "metadata": {},
          "execution_count": 19
        },
        {
          "output_type": "display_data",
          "data": {
            "text/plain": [
              "<Figure size 432x288 with 1 Axes>"
            ],
            "image/png": "[encoded data removed]"
          },
          "metadata": {
            "needs_background": "light"
          }
        }
      ]
    },
    {
      "cell_type": "code",
      "source": [
        "sns.distplot(df['Age'])"
      ],
      "metadata": {
        "colab": {
          "base_uri": "https://localhost:8080/",
          "height": 351
        },
        "id": "MyK52GeW8eKX",
        "outputId": "bac6d540-adf5-4a36-d778-c7be1314181f"
      },
      "execution_count": 24,
      "outputs": [
        {
          "output_type": "stream",
          "name": "stderr",
          "text": [
            "/usr/local/lib/python3.7/dist-packages/seaborn/distributions.py:2619: FutureWarning: `distplot` is a deprecated function and will be removed in a future version. Please adapt your code to use either `displot` (a figure-level function with similar flexibility) or `histplot` (an axes-level function for histograms).\n",
            "  warnings.warn(msg, FutureWarning)\n"
          ]
        },
        {
          "output_type": "execute_result",
          "data": {
            "text/plain": [
              "<matplotlib.axes._subplots.AxesSubplot at 0x7f47eac11250>"
            ]
          },
          "metadata": {},
          "execution_count": 24
        },
        {
          "output_type": "display_data",
          "data": {
            "text/plain": [
              "<Figure size 432x288 with 1 Axes>"
            ],
            "image/png": "[encoded data removed]"
          },
          "metadata": {
            "needs_background": "light"
          }
        }
      ]
    },
    {
      "cell_type": "code",
      "source": [
        "sns.distplot(df['Annual Income (k$)'])"
      ],
      "metadata": {
        "colab": {
          "base_uri": "https://localhost:8080/",
          "height": 351
        },
        "id": "ByuR9zYy8iY8",
        "outputId": "7948ea50-c68f-41c0-96e5-a599a2ae4fe0"
      },
      "execution_count": 21,
      "outputs": [
        {
          "output_type": "stream",
          "name": "stderr",
          "text": [
            "/usr/local/lib/python3.7/dist-packages/seaborn/distributions.py:2619: FutureWarning: `distplot` is a deprecated function and will be removed in a future version. Please adapt your code to use either `displot` (a figure-level function with similar flexibility) or `histplot` (an axes-level function for histograms).\n",
            "  warnings.warn(msg, FutureWarning)\n"
          ]
        },
        {
          "output_type": "execute_result",
          "data": {
            "text/plain": [
              "<matplotlib.axes._subplots.AxesSubplot at 0x7f47eabe1b50>"
            ]
          },
          "metadata": {},
          "execution_count": 21
        },
        {
          "output_type": "display_data",
          "data": {
            "text/plain": [
              "<Figure size 432x288 with 1 Axes>"
            ],
            "image/png": "[encoded data removed]"
          },
          "metadata": {
            "needs_background": "light"
          }
        }
      ]
    },
    {
      "cell_type": "code",
      "source": [
        "sns.distplot(df['Spending Score (1-100)'])"
      ],
      "metadata": {
        "colab": {
          "base_uri": "https://localhost:8080/",
          "height": 355
        },
        "id": "6ISU_U5U8imf",
        "outputId": "3ab085cf-fcad-47b1-b9b8-0b03af90d721"
      },
      "execution_count": 22,
      "outputs": [
        {
          "output_type": "stream",
          "name": "stderr",
          "text": [
            "/usr/local/lib/python3.7/dist-packages/seaborn/distributions.py:2619: FutureWarning: `distplot` is a deprecated function and will be removed in a future version. Please adapt your code to use either `displot` (a figure-level function with similar flexibility) or `histplot` (an axes-level function for histograms).\n",
            "  warnings.warn(msg, FutureWarning)\n"
          ]
        },
        {
          "output_type": "execute_result",
          "data": {
            "text/plain": [
              "<matplotlib.axes._subplots.AxesSubplot at 0x7f47eabf2950>"
            ]
          },
          "metadata": {},
          "execution_count": 22
        },
        {
          "output_type": "display_data",
          "data": {
            "text/plain": [
              "<Figure size 432x288 with 1 Axes>"
            ],
            "image/png": "[encoded data removed]"
          },
          "metadata": {
            "needs_background": "light"
          }
        }
      ]
    },
    {
      "cell_type": "code",
      "source": [
        "sns.pairplot(df[[ 'Gender', 'Age', 'Annual Income (k$)','Spending Score (1-100)']])"
      ],
      "metadata": {
        "colab": {
          "base_uri": "https://localhost:8080/",
          "height": 567
        },
        "id": "bVF9m92S8ykx",
        "outputId": "d86e1905-61fe-4364-c0f9-d3a9aaa400e3"
      },
      "execution_count": 25,
      "outputs": [
        {
          "output_type": "execute_result",
          "data": {
            "text/plain": [
              "<seaborn.axisgrid.PairGrid at 0x7f47eaef4450>"
            ]
          },
          "metadata": {},
          "execution_count": 25
        },
        {
          "output_type": "display_data",
          "data": {
            "text/plain": [
              "<Figure size 540x540 with 12 Axes>"
            ],
            "image/png": "[encoded data removed]"
          },
          "metadata": {
            "needs_background": "light"
          }
        }
      ]
    },
    {
      "cell_type": "markdown",
      "metadata": {
        "id": "sn7C2AXFHc8c"
      },
      "source": [
        "# 4. Perform descriptive statistics on the dataset."
      ]
    },
    {
      "cell_type": "code",
      "execution_count": 27,
      "metadata": {
        "id": "w9yjEgaKHc8c",
        "outputId": "0cb4dc65-3646-4a92-8841-64c2fe23fd34",
        "colab": {
          "base_uri": "https://localhost:8080/"
        }
      },
      "outputs": [
        {
          "output_type": "stream",
          "name": "stdout",
          "text": [
            "<class 'pandas.core.frame.DataFrame'>\n",
            "RangeIndex: 200 entries, 0 to 199\n",
            "Data columns (total 5 columns):\n",
            " #   Column                  Non-Null Count  Dtype   \n",
            "---  ------                  --------------  -----   \n",
            " 0   CustomerID              200 non-null    int64   \n",
            " 1   Gender                  200 non-null    category\n",
            " 2   Age                     200 non-null    int64   \n",
            " 3   Annual Income (k$)      200 non-null    int64   \n",
            " 4   Spending Score (1-100)  200 non-null    int64   \n",
            "dtypes: category(1), int64(4)\n",
            "memory usage: 6.7 KB\n"
          ]
        }
      ],
      "source": [
        "df.info()"
      ]
    },
    {
      "cell_type": "code",
      "execution_count": 28,
      "metadata": {
        "id": "XuCfcrunHc8c",
        "outputId": "4867be98-5403-438c-c116-d312fa372137",
        "colab": {
          "base_uri": "https://localhost:8080/",
          "height": 300
        }
      },
      "outputs": [
        {
          "output_type": "execute_result",
          "data": {
            "text/plain": [
              "       CustomerID         Age  Annual Income (k$)  Spending Score (1-100)\n",
              "count  200.000000  200.000000          200.000000              200.000000\n",
              "mean   100.500000   38.850000           60.560000               50.200000\n",
              "std     57.879185   13.969007           26.264721               25.823522\n",
              "min      1.000000   18.000000           15.000000                1.000000\n",
              "25%     50.750000   28.750000           41.500000               34.750000\n",
              "50%    100.500000   36.000000           61.500000               50.000000\n",
              "75%    150.250000   49.000000           78.000000               73.000000\n",
              "max    200.000000   70.000000          137.000000               99.000000"
            ],
            "text/html": [
              "\n",
              "  <div id=\"df-f8103da9-f4cb-45a2-80aa-447b111c1ee2\">\n",
              "    <div class=\"colab-df-container\">\n",
              "      <div>\n",
              "<style scoped>\n",
              "    .dataframe tbody tr th:only-of-type {\n",
              "        vertical-align: middle;\n",
              "    }\n",
              "\n",
              "    .dataframe tbody tr th {\n",
              "        vertical-align: top;\n",
              "    }\n",
              "\n",
              "    .dataframe thead th {\n",
              "        text-align: right;\n",
              "    }\n",
              "</style>\n",
              "<table border=\"1\" class=\"dataframe\">\n",
              "  <thead>\n",
              "    <tr style=\"text-align: right;\">\n",
              "      <th></th>\n",
              "      <th>CustomerID</th>\n",
              "      <th>Age</th>\n",
              "      <th>Annual Income (k$)</th>\n",
              "      <th>Spending Score (1-100)</th>\n",
              "    </tr>\n",
              "  </thead>\n",
              "  <tbody>\n",
              "    <tr>\n",
              "      <th>count</th>\n",
              "      <td>200.000000</td>\n",
              "      <td>200.000000</td>\n",
              "      <td>200.000000</td>\n",
              "      <td>200.000000</td>\n",
              "    </tr>\n",
              "    <tr>\n",
              "      <th>mean</th>\n",
              "      <td>100.500000</td>\n",
              "      <td>38.850000</td>\n",
              "      <td>60.560000</td>\n",
              "      <td>50.200000</td>\n",
              "    </tr>\n",
              "    <tr>\n",
              "      <th>std</th>\n",
              "      <td>57.879185</td>\n",
              "      <td>13.969007</td>\n",
              "      <td>26.264721</td>\n",
              "      <td>25.823522</td>\n",
              "    </tr>\n",
              "    <tr>\n",
              "      <th>min</th>\n",
              "      <td>1.000000</td>\n",
              "      <td>18.000000</td>\n",
              "      <td>15.000000</td>\n",
              "      <td>1.000000</td>\n",
              "    </tr>\n",
              "    <tr>\n",
              "      <th>25%</th>\n",
              "      <td>50.750000</td>\n",
              "      <td>28.750000</td>\n",
              "      <td>41.500000</td>\n",
              "      <td>34.750000</td>\n",
              "    </tr>\n",
              "    <tr>\n",
              "      <th>50%</th>\n",
              "      <td>100.500000</td>\n",
              "      <td>36.000000</td>\n",
              "      <td>61.500000</td>\n",
              "      <td>50.000000</td>\n",
              "    </tr>\n",
              "    <tr>\n",
              "      <th>75%</th>\n",
              "      <td>150.250000</td>\n",
              "      <td>49.000000</td>\n",
              "      <td>78.000000</td>\n",
              "      <td>73.000000</td>\n",
              "    </tr>\n",
              "    <tr>\n",
              "      <th>max</th>\n",
              "      <td>200.000000</td>\n",
              "      <td>70.000000</td>\n",
              "      <td>137.000000</td>\n",
              "      <td>99.000000</td>\n",
              "    </tr>\n",
              "  </tbody>\n",
              "</table>\n",
              "</div>\n",
              "      <button class=\"colab-df-convert\" onclick=\"convertToInteractive('df-f8103da9-f4cb-45a2-80aa-447b111c1ee2')\"\n",
              "              title=\"Convert this dataframe to an interactive table.\"\n",
              "              style=\"display:none;\">\n",
              "        \n",
              "  <svg xmlns=\"http://www.w3.org/2000/svg\" height=\"24px\"viewBox=\"0 0 24 24\"\n",
              "       width=\"24px\">\n",
              "    <path d=\"M0 0h24v24H0V0z\" fill=\"none\"/>\n",
              "    <path d=\"M18.56 5.44l.94 2.06.94-2.06 2.06-.94-2.06-.94-.94-2.06-.94 2.06-2.06.94zm-11 1L8.5 8.5l.94-2.06 2.06-.94-2.06-.94L8.5 2.5l-.94 2.06-2.06.94zm10 10l.94 2.06.94-2.06 2.06-.94-2.06-.94-.94-2.06-.94 2.06-2.06.94z\"/><path d=\"M17.41 7.96l-1.37-1.37c-.4-.4-.92-.59-1.43-.59-.52 0-1.04.2-1.43.59L10.3 9.45l-7.72 7.72c-.78.78-.78 2.05 0 2.83L4 21.41c.39.39.9.59 1.41.59.51 0 1.02-.2 1.41-.59l7.78-7.78 2.81-2.81c.8-.78.8-2.07 0-2.86zM5.41 20L4 18.59l7.72-7.72 1.47 1.35L5.41 20z\"/>\n",
              "  </svg>\n",
              "      </button>\n",
              "      \n",
              "  <style>\n",
              "    .colab-df-container {\n",
              "      display:flex;\n",
              "      flex-wrap:wrap;\n",
              "      gap: 12px;\n",
              "    }\n",
              "\n",
              "    .colab-df-convert {\n",
              "      background-color: #E8F0FE;\n",
              "      border: none;\n",
              "      border-radius: 50%;\n",
              "      cursor: pointer;\n",
              "      display: none;\n",
              "      fill: #1967D2;\n",
              "      height: 32px;\n",
              "      padding: 0 0 0 0;\n",
              "      width: 32px;\n",
              "    }\n",
              "\n",
              "    .colab-df-convert:hover {\n",
              "      background-color: #E2EBFA;\n",
              "      box-shadow: 0px 1px 2px rgba(60, 64, 67, 0.3), 0px 1px 3px 1px rgba(60, 64, 67, 0.15);\n",
              "      fill: #174EA6;\n",
              "    }\n",
              "\n",
              "    [theme=dark] .colab-df-convert {\n",
              "      background-color: #3B4455;\n",
              "      fill: #D2E3FC;\n",
              "    }\n",
              "\n",
              "    [theme=dark] .colab-df-convert:hover {\n",
              "      background-color: #434B5C;\n",
              "      box-shadow: 0px 1px 3px 1px rgba(0, 0, 0, 0.15);\n",
              "      filter: drop-shadow(0px 1px 2px rgba(0, 0, 0, 0.3));\n",
              "      fill: #FFFFFF;\n",
              "    }\n",
              "  </style>\n",
              "\n",
              "      <script>\n",
              "        const buttonEl =\n",
              "          document.querySelector('#df-f8103da9-f4cb-45a2-80aa-447b111c1ee2 button.colab-df-convert');\n",
              "        buttonEl.style.display =\n",
              "          google.colab.kernel.accessAllowed ? 'block' : 'none';\n",
              "\n",
              "        async function convertToInteractive(key) {\n",
              "          const element = document.querySelector('#df-f8103da9-f4cb-45a2-80aa-447b111c1ee2');\n",
              "          const dataTable =\n",
              "            await google.colab.kernel.invokeFunction('convertToInteractive',\n",
              "                                                     [key], {});\n",
              "          if (!dataTable) return;\n",
              "\n",
              "          const docLinkHtml = 'Like what you see? Visit the ' +\n",
              "            '<a target=\"_blank\" href=https://colab.research.google.com/notebooks/data_table.ipynb>data table notebook</a>'\n",
              "            + ' to learn more about interactive tables.';\n",
              "          element.innerHTML = '';\n",
              "          dataTable['output_type'] = 'display_data';\n",
              "          await google.colab.output.renderOutput(dataTable, element);\n",
              "          const docLink = document.createElement('div');\n",
              "          docLink.innerHTML = docLinkHtml;\n",
              "          element.appendChild(docLink);\n",
              "        }\n",
              "      </script>\n",
              "    </div>\n",
              "  </div>\n",
              "  "
            ]
          },
          "metadata": {},
          "execution_count": 28
        }
      ],
      "source": [
        "df.describe()"
      ]
    },
    {
      "cell_type": "code",
      "source": [
        "df.shape"
      ],
      "metadata": {
        "colab": {
          "base_uri": "https://localhost:8080/"
        },
        "id": "zplPc0eF9SlB",
        "outputId": "130b33cf-14fc-473e-f35a-d174eb8ea8cd"
      },
      "execution_count": 30,
      "outputs": [
        {
          "output_type": "execute_result",
          "data": {
            "text/plain": [
              "(200, 5)"
            ]
          },
          "metadata": {},
          "execution_count": 30
        }
      ]
    },
    {
      "cell_type": "markdown",
      "metadata": {
        "id": "PN5gNdeIHc8d"
      },
      "source": [
        "# 5. Handle the Missing values."
      ]
    },
    {
      "cell_type": "code",
      "execution_count": 31,
      "metadata": {
        "id": "U_vjk90tHc8d",
        "outputId": "dc8d76b7-c5ca-436c-aeea-14464dc8014d",
        "colab": {
          "base_uri": "https://localhost:8080/"
        }
      },
      "outputs": [
        {
          "output_type": "execute_result",
          "data": {
            "text/plain": [
              "CustomerID                0\n",
              "Gender                    0\n",
              "Age                       0\n",
              "Annual Income (k$)        0\n",
              "Spending Score (1-100)    0\n",
              "dtype: int64"
            ]
          },
          "metadata": {},
          "execution_count": 31
        }
      ],
      "source": [
        "df.isna().sum()"
      ]
    },
    {
      "cell_type": "markdown",
      "metadata": {
        "id": "yr99sl37Hc8d"
      },
      "source": [
        "### there is no missing values in dataset"
      ]
    },
    {
      "cell_type": "code",
      "execution_count": 32,
      "metadata": {
        "id": "0pUUXTrvHc8e",
        "outputId": "5921f808-aab4-4127-f46d-d41398247f74",
        "colab": {
          "base_uri": "https://localhost:8080/"
        }
      },
      "outputs": [
        {
          "output_type": "stream",
          "name": "stdout",
          "text": [
            "unique of Gender is 2 they are {'Female', 'Male'}\n"
          ]
        }
      ],
      "source": [
        "for i in df:\n",
        "    if df[i].dtype=='object' or df[i].dtype=='category':\n",
        "        print(\"unique of \"+i+\" is \"+str(len(set(df[i])))+\" they are \"+str(set(df[i])))"
      ]
    },
    {
      "cell_type": "markdown",
      "metadata": {
        "id": "a0oug3a9Hc8e"
      },
      "source": [
        "# 6. Find the outliers and replace the outliers"
      ]
    },
    {
      "cell_type": "markdown",
      "metadata": {
        "id": "vJZJQ56BHc8e"
      },
      "source": [
        "## Checking for outliers"
      ]
    },
    {
      "cell_type": "code",
      "execution_count": 33,
      "metadata": {
        "id": "Yn-mdE2RHc8f"
      },
      "outputs": [],
      "source": [
        "def box_scatter(data, x, y):    \n",
        "    fig, (ax1, ax2) = plt.subplots(nrows=2, ncols=1, figsize=(16,6))\n",
        "    sns.boxplot(data=data, x=x, ax=ax1)\n",
        "    sns.scatterplot(data=data, x=x,y=y,ax=ax2)"
      ]
    },
    {
      "cell_type": "code",
      "source": [
        "box_scatter(df,'Spending Score (1-100)','Gender');\n",
        "plt.tight_layout()\n",
        "print(f\"# of Bivariate Outliers: {len(df.loc[df['Spending Score (1-100)'] < 400])}\")"
      ],
      "metadata": {
        "colab": {
          "base_uri": "https://localhost:8080/",
          "height": 447
        },
        "id": "7VD-UulV_Vzv",
        "outputId": "aec17632-bfad-46be-9932-9ea547490afa"
      },
      "execution_count": 43,
      "outputs": [
        {
          "output_type": "stream",
          "name": "stdout",
          "text": [
            "# of Bivariate Outliers: 200\n"
          ]
        },
        {
          "output_type": "display_data",
          "data": {
            "text/plain": [
              "<Figure size 1152x432 with 2 Axes>"
            ],
            "image/png": "[encoded data removed]"
          },
          "metadata": {
            "needs_background": "light"
          }
        }
      ]
    },
    {
      "cell_type": "code",
      "source": [
        "box_scatter(df,'Annual Income (k$)','Gender');\n",
        "plt.tight_layout()\n",
        "print(f\"# of Bivariate Outliers: {len(df.loc[df['Annual Income (k$)'] > 80])}\")"
      ],
      "metadata": {
        "colab": {
          "base_uri": "https://localhost:8080/",
          "height": 447
        },
        "id": "sA8aV7CZ_6cX",
        "outputId": "775404a1-660f-43cd-8925-14250811a68e"
      },
      "execution_count": 59,
      "outputs": [
        {
          "output_type": "stream",
          "name": "stdout",
          "text": [
            "# of Bivariate Outliers: 38\n"
          ]
        },
        {
          "output_type": "display_data",
          "data": {
            "text/plain": [
              "<Figure size 1152x432 with 2 Axes>"
            ],
            "image/png": "[encoded data removed]"
          },
          "metadata": {
            "needs_background": "light"
          }
        }
      ]
    },
    {
      "cell_type": "code",
      "source": [
        "box_scatter(df,'Age','Gender');\n",
        "plt.tight_layout()\n",
        "print(f\"# of Bivariate Outliers: {len(df.loc[df['Age'] > 50])}\")"
      ],
      "metadata": {
        "colab": {
          "base_uri": "https://localhost:8080/",
          "height": 447
        },
        "id": "33U7fwAY_4om",
        "outputId": "5cb26512-c363-40f6-b1fb-e9064c4545a9"
      },
      "execution_count": 54,
      "outputs": [
        {
          "output_type": "stream",
          "name": "stdout",
          "text": [
            "# of Bivariate Outliers: 40\n"
          ]
        },
        {
          "output_type": "display_data",
          "data": {
            "text/plain": [
              "<Figure size 1152x432 with 2 Axes>"
            ],
            "image/png": "[encoded data removed]"
          },
          "metadata": {
            "needs_background": "light"
          }
        }
      ]
    },
    {
      "cell_type": "markdown",
      "metadata": {
        "id": "8LUd3dixHc8g"
      },
      "source": [
        "## Removing outliers"
      ]
    },
    {
      "cell_type": "code",
      "execution_count": 55,
      "metadata": {
        "id": "5zA8Ob0SHc8h"
      },
      "outputs": [],
      "source": [
        "for i in df:\n",
        "    if df[i].dtype=='int64' or df[i].dtypes=='float64':\n",
        "        q1=df[i].quantile(0.25)\n",
        "        q3=df[i].quantile(0.75)\n",
        "        iqr=q3-q1\n",
        "        upper=q3+1.5*iqr\n",
        "        lower=q1-1.5*iqr\n",
        "        df[i]=np.where(df[i] >upper, upper, df[i])\n",
        "        df[i]=np.where(df[i] <lower, lower, df[i])\n",
        "        "
      ]
    },
    {
      "cell_type": "markdown",
      "metadata": {
        "id": "xrpKL5IbHc8h"
      },
      "source": [
        "## After removing outliers, boxplot will be like"
      ]
    },
    {
      "cell_type": "code",
      "execution_count": 56,
      "metadata": {
        "id": "WbYBo8lTHc8h",
        "outputId": "9c2f3439-58d3-4757-c8ae-28662dd5e227",
        "colab": {
          "base_uri": "https://localhost:8080/",
          "height": 447
        }
      },
      "outputs": [
        {
          "output_type": "stream",
          "name": "stdout",
          "text": [
            "# of Bivariate Outliers: 200\n"
          ]
        },
        {
          "output_type": "display_data",
          "data": {
            "text/plain": [
              "<Figure size 1152x432 with 2 Axes>"
            ],
            "image/png": "[encoded data removed]"
          },
          "metadata": {
            "needs_background": "light"
          }
        }
      ],
      "source": [
        "box_scatter(df,'Spending Score (1-100)','Gender');\n",
        "plt.tight_layout()\n",
        "print(f\"# of Bivariate Outliers: {len(df.loc[df['Spending Score (1-100)'] < 400])}\")"
      ]
    },
    {
      "cell_type": "code",
      "execution_count": 60,
      "metadata": {
        "id": "WGQvZzBKHc8i",
        "outputId": "d284b8c3-33a4-455d-a812-99904317c9d0",
        "colab": {
          "base_uri": "https://localhost:8080/",
          "height": 447
        }
      },
      "outputs": [
        {
          "output_type": "stream",
          "name": "stdout",
          "text": [
            "# of Bivariate Outliers: 38\n"
          ]
        },
        {
          "output_type": "display_data",
          "data": {
            "text/plain": [
              "<Figure size 1152x432 with 2 Axes>"
            ],
            "image/png": "[encoded data removed]"
          },
          "metadata": {
            "needs_background": "light"
          }
        }
      ],
      "source": [
        "box_scatter(df,'Annual Income (k$)','Gender');\n",
        "plt.tight_layout()\n",
        "print(f\"# of Bivariate Outliers: {len(df.loc[df['Annual Income (k$)'] > 80])}\")"
      ]
    },
    {
      "cell_type": "code",
      "execution_count": 62,
      "metadata": {
        "id": "LU7e9WYhHc8i",
        "outputId": "b2de6b40-aacf-4682-d34b-a1517b7d6e33",
        "colab": {
          "base_uri": "https://localhost:8080/",
          "height": 447
        }
      },
      "outputs": [
        {
          "output_type": "stream",
          "name": "stdout",
          "text": [
            "# of Bivariate Outliers: 40\n"
          ]
        },
        {
          "output_type": "display_data",
          "data": {
            "text/plain": [
              "<Figure size 1152x432 with 2 Axes>"
            ],
            "image/png": "[encoded data removed]"
          },
          "metadata": {
            "needs_background": "light"
          }
        }
      ],
      "source": [
        "box_scatter(df,'Age','Gender');\n",
        "plt.tight_layout()\n",
        "print(f\"# of Bivariate Outliers: {len(df.loc[df['Age'] > 50])}\")"
      ]
    },
    {
      "cell_type": "markdown",
      "metadata": {
        "id": "RwwzbRcCHc8i"
      },
      "source": [
        "# 7. Check for Categorical columns and perform encoding."
      ]
    },
    {
      "cell_type": "code",
      "execution_count": 63,
      "metadata": {
        "id": "4A4stDbjHc8i"
      },
      "outputs": [],
      "source": [
        "from sklearn.preprocessing import LabelEncoder\n",
        "encoder=LabelEncoder()\n",
        "for i in df:\n",
        "    if df[i].dtype=='object' or df[i].dtype=='category':\n",
        "        df[i]=encoder.fit_transform(df[i])"
      ]
    },
    {
      "cell_type": "markdown",
      "metadata": {
        "id": "yRV8qzc6Hc8k"
      },
      "source": [
        "# 8. Scale the independent variables"
      ]
    },
    {
      "cell_type": "code",
      "execution_count": 75,
      "metadata": {
        "id": "EJ0o7rg6Hc8k"
      },
      "outputs": [],
      "source": [
        "from sklearn.preprocessing import StandardScaler\n",
        "scaler=StandardScaler()\n",
        "x=scaler.fit_transform(x)"
      ]
    },
    {
      "cell_type": "code",
      "execution_count": 76,
      "metadata": {
        "id": "E5AbMhwXHc8k",
        "outputId": "4f79a485-ea23-41c9-fe21-0c3739d0c0f3",
        "colab": {
          "base_uri": "https://localhost:8080/"
        }
      },
      "outputs": [
        {
          "output_type": "execute_result",
          "data": {
            "text/plain": [
              "array([[-1.7234121 ,  1.12815215, -1.42456879, -1.74542941],\n",
              "       [-1.70609137,  1.12815215, -1.28103541, -1.74542941],\n",
              "       [-1.68877065, -0.88640526, -1.3528021 , -1.70708307],\n",
              "       [-1.67144992, -0.88640526, -1.13750203, -1.70708307],\n",
              "       [-1.6541292 , -0.88640526, -0.56336851, -1.66873673],\n",
              "       [-1.63680847, -0.88640526, -1.20926872, -1.66873673],\n",
              "       [-1.61948775, -0.88640526, -0.27630176, -1.6303904 ],\n",
              "       [-1.60216702, -0.88640526, -1.13750203, -1.6303904 ],\n",
              "       [-1.5848463 ,  1.12815215,  1.80493225, -1.59204406],\n",
              "       [-1.56752558, -0.88640526, -0.6351352 , -1.59204406],\n",
              "       [-1.55020485,  1.12815215,  2.02023231, -1.59204406],\n",
              "       [-1.53288413, -0.88640526, -0.27630176, -1.59204406],\n",
              "       [-1.5155634 , -0.88640526,  1.37433211, -1.55369772],\n",
              "       [-1.49824268, -0.88640526, -1.06573534, -1.55369772],\n",
              "       [-1.48092195,  1.12815215, -0.13276838, -1.55369772],\n",
              "       [-1.46360123,  1.12815215, -1.20926872, -1.55369772],\n",
              "       [-1.4462805 , -0.88640526, -0.27630176, -1.51535138],\n",
              "       [-1.42895978,  1.12815215, -1.3528021 , -1.51535138],\n",
              "       [-1.41163905,  1.12815215,  0.94373197, -1.43865871],\n",
              "       [-1.39431833, -0.88640526, -0.27630176, -1.43865871],\n",
              "       [-1.3769976 ,  1.12815215, -0.27630176, -1.40031237],\n",
              "       [-1.35967688,  1.12815215, -0.99396865, -1.40031237],\n",
              "       [-1.34235616, -0.88640526,  0.51313183, -1.36196603],\n",
              "       [-1.32503543,  1.12815215, -0.56336851, -1.36196603],\n",
              "       [-1.30771471, -0.88640526,  1.08726535, -1.24692702],\n",
              "       [-1.29039398,  1.12815215, -0.70690189, -1.24692702],\n",
              "       [-1.27307326, -0.88640526,  0.44136514, -1.24692702],\n",
              "       [-1.25575253,  1.12815215, -0.27630176, -1.24692702],\n",
              "       [-1.23843181, -0.88640526,  0.08253169, -1.20858069],\n",
              "       [-1.22111108, -0.88640526, -1.13750203, -1.20858069],\n",
              "       [-1.20379036,  1.12815215,  1.51786549, -1.17023435],\n",
              "       [-1.18646963, -0.88640526, -1.28103541, -1.17023435],\n",
              "       [-1.16914891,  1.12815215,  1.01549866, -1.05519534],\n",
              "       [-1.15182818,  1.12815215, -1.49633548, -1.05519534],\n",
              "       [-1.13450746, -0.88640526,  0.7284319 , -1.05519534],\n",
              "       [-1.11718674, -0.88640526, -1.28103541, -1.05519534],\n",
              "       [-1.09986601, -0.88640526,  0.22606507, -1.016849  ],\n",
              "       [-1.08254529, -0.88640526, -0.6351352 , -1.016849  ],\n",
              "       [-1.06522456, -0.88640526, -0.20453507, -0.90180999],\n",
              "       [-1.04790384, -0.88640526, -1.3528021 , -0.90180999],\n",
              "       [-1.03058311, -0.88640526,  1.87669894, -0.86346365],\n",
              "       [-1.01326239,  1.12815215, -1.06573534, -0.86346365],\n",
              "       [-0.99594166,  1.12815215,  0.65666521, -0.82511731],\n",
              "       [-0.97862094, -0.88640526, -0.56336851, -0.82511731],\n",
              "       [-0.96130021, -0.88640526,  0.7284319 , -0.82511731],\n",
              "       [-0.94397949, -0.88640526, -1.06573534, -0.82511731],\n",
              "       [-0.92665877, -0.88640526,  0.80019859, -0.78677098],\n",
              "       [-0.90933804, -0.88640526, -0.85043527, -0.78677098],\n",
              "       [-0.89201732, -0.88640526, -0.70690189, -0.78677098],\n",
              "       [-0.87469659, -0.88640526, -0.56336851, -0.78677098],\n",
              "       [-0.85737587, -0.88640526,  0.7284319 , -0.7100783 ],\n",
              "       [-0.84005514,  1.12815215, -0.41983513, -0.7100783 ],\n",
              "       [-0.82273442, -0.88640526, -0.56336851, -0.67173196],\n",
              "       [-0.80541369,  1.12815215,  1.4460988 , -0.67173196],\n",
              "       [-0.78809297, -0.88640526,  0.80019859, -0.67173196],\n",
              "       [-0.77077224,  1.12815215,  0.58489852, -0.67173196],\n",
              "       [-0.75345152, -0.88640526,  0.87196528, -0.63338563],\n",
              "       [-0.73613079,  1.12815215,  2.16376569, -0.63338563],\n",
              "       [-0.71881007, -0.88640526, -0.85043527, -0.55669295],\n",
              "       [-0.70148935,  1.12815215,  1.01549866, -0.55669295],\n",
              "       [-0.68416862,  1.12815215,  2.23553238, -0.55669295],\n",
              "       [-0.6668479 ,  1.12815215, -1.42456879, -0.55669295],\n",
              "       [-0.64952717, -0.88640526,  2.02023231, -0.51834661],\n",
              "       [-0.63220645, -0.88640526,  1.08726535, -0.51834661],\n",
              "       [-0.61488572,  1.12815215,  1.73316556, -0.48000028],\n",
              "       [-0.597565  ,  1.12815215, -1.49633548, -0.48000028],\n",
              "       [-0.58024427, -0.88640526,  0.29783176, -0.48000028],\n",
              "       [-0.56292355, -0.88640526,  2.091999  , -0.48000028],\n",
              "       [-0.54560282,  1.12815215, -1.42456879, -0.48000028],\n",
              "       [-0.5282821 , -0.88640526, -0.49160182, -0.48000028],\n",
              "       [-0.51096138,  1.12815215,  2.23553238, -0.44165394],\n",
              "       [-0.49364065, -0.88640526,  0.58489852, -0.44165394],\n",
              "       [-0.47631993, -0.88640526,  1.51786549, -0.4033076 ],\n",
              "       [-0.4589992 , -0.88640526,  1.51786549, -0.4033076 ],\n",
              "       [-0.44167848,  1.12815215,  1.4460988 , -0.24992225],\n",
              "       [-0.42435775,  1.12815215, -0.92220196, -0.24992225],\n",
              "       [-0.40703703, -0.88640526,  0.44136514, -0.24992225],\n",
              "       [-0.3897163 ,  1.12815215,  0.08253169, -0.24992225],\n",
              "       [-0.37239558, -0.88640526, -1.13750203, -0.24992225],\n",
              "       [-0.35507485, -0.88640526,  0.7284319 , -0.24992225],\n",
              "       [-0.33775413,  1.12815215,  1.30256542, -0.24992225],\n",
              "       [-0.3204334 ,  1.12815215, -0.06100169, -0.24992225],\n",
              "       [-0.30311268,  1.12815215,  2.02023231, -0.24992225],\n",
              "       [-0.28579196, -0.88640526,  0.51313183, -0.24992225],\n",
              "       [-0.26847123, -0.88640526, -1.28103541, -0.24992225],\n",
              "       [-0.25115051,  1.12815215,  0.65666521, -0.24992225],\n",
              "       [-0.23382978, -0.88640526,  1.15903204, -0.13488324],\n",
              "       [-0.21650906, -0.88640526, -1.20926872, -0.13488324],\n",
              "       [-0.19918833, -0.88640526, -0.34806844, -0.0965369 ],\n",
              "       [-0.18186761, -0.88640526,  0.80019859, -0.0965369 ],\n",
              "       [-0.16454688, -0.88640526,  2.091999  , -0.05819057],\n",
              "       [-0.14722616,  1.12815215, -1.49633548, -0.05819057],\n",
              "       [-0.12990543,  1.12815215,  0.65666521, -0.01984423],\n",
              "       [-0.11258471, -0.88640526,  0.08253169, -0.01984423],\n",
              "       [-0.09526399, -0.88640526, -0.49160182, -0.01984423],\n",
              "       [-0.07794326,  1.12815215, -1.06573534, -0.01984423],\n",
              "       [-0.06062254, -0.88640526,  0.58489852, -0.01984423],\n",
              "       [-0.04330181, -0.88640526, -0.85043527, -0.01984423],\n",
              "       [-0.02598109,  1.12815215,  0.65666521,  0.01850211],\n",
              "       [-0.00866036,  1.12815215, -1.3528021 ,  0.01850211],\n",
              "       [ 0.00866036, -0.88640526, -1.13750203,  0.05684845],\n",
              "       [ 0.02598109, -0.88640526,  0.7284319 ,  0.05684845],\n",
              "       [ 0.04330181,  1.12815215,  2.02023231,  0.05684845],\n",
              "       [ 0.06062254,  1.12815215, -0.92220196,  0.05684845],\n",
              "       [ 0.07794326,  1.12815215,  0.7284319 ,  0.05684845],\n",
              "       [ 0.09526399, -0.88640526, -1.28103541,  0.05684845],\n",
              "       [ 0.11258471, -0.88640526,  1.94846562,  0.09519478],\n",
              "       [ 0.12990543,  1.12815215,  1.08726535,  0.09519478],\n",
              "       [ 0.14722616,  1.12815215,  2.091999  ,  0.09519478],\n",
              "       [ 0.16454688,  1.12815215,  1.94846562,  0.09519478],\n",
              "       [ 0.18186761,  1.12815215,  1.87669894,  0.09519478],\n",
              "       [ 0.19918833, -0.88640526, -1.42456879,  0.09519478],\n",
              "       [ 0.21650906, -0.88640526, -0.06100169,  0.13354112],\n",
              "       [ 0.23382978,  1.12815215, -1.42456879,  0.13354112],\n",
              "       [ 0.25115051, -0.88640526, -1.49633548,  0.17188746],\n",
              "       [ 0.26847123, -0.88640526, -1.42456879,  0.17188746],\n",
              "       [ 0.28579196, -0.88640526,  1.73316556,  0.17188746],\n",
              "       [ 0.30311268, -0.88640526,  0.7284319 ,  0.17188746],\n",
              "       [ 0.3204334 , -0.88640526,  0.87196528,  0.24858013],\n",
              "       [ 0.33775413, -0.88640526,  0.80019859,  0.24858013],\n",
              "       [ 0.35507485,  1.12815215, -0.85043527,  0.24858013],\n",
              "       [ 0.37239558, -0.88640526, -0.06100169,  0.24858013],\n",
              "       [ 0.3897163 , -0.88640526,  0.08253169,  0.32527281],\n",
              "       [ 0.40703703,  1.12815215,  0.010765  ,  0.32527281],\n",
              "       [ 0.42435775, -0.88640526, -1.13750203,  0.36361914],\n",
              "       [ 0.44167848, -0.88640526, -0.56336851,  0.36361914],\n",
              "       [ 0.4589992 ,  1.12815215,  0.29783176,  0.40196548],\n",
              "       [ 0.47631993,  1.12815215,  0.08253169,  0.40196548],\n",
              "       [ 0.49364065,  1.12815215,  1.4460988 ,  0.40196548],\n",
              "       [ 0.51096138,  1.12815215, -0.06100169,  0.40196548],\n",
              "       [ 0.5282821 ,  1.12815215,  0.58489852,  0.40196548],\n",
              "       [ 0.54560282,  1.12815215,  0.010765  ,  0.40196548],\n",
              "       [ 0.56292355, -0.88640526, -0.99396865,  0.44031182],\n",
              "       [ 0.58024427, -0.88640526, -0.56336851,  0.44031182],\n",
              "       [ 0.597565  ,  1.12815215, -1.3528021 ,  0.47865816],\n",
              "       [ 0.61488572, -0.88640526, -0.70690189,  0.47865816],\n",
              "       [ 0.63220645, -0.88640526,  0.36959845,  0.47865816],\n",
              "       [ 0.64952717,  1.12815215, -0.49160182,  0.47865816],\n",
              "       [ 0.6668479 ,  1.12815215, -1.42456879,  0.51700449],\n",
              "       [ 0.68416862, -0.88640526, -0.27630176,  0.51700449],\n",
              "       [ 0.70148935, -0.88640526,  1.30256542,  0.55535083],\n",
              "       [ 0.71881007,  1.12815215, -0.49160182,  0.55535083],\n",
              "       [ 0.73613079, -0.88640526, -0.77866858,  0.59369717],\n",
              "       [ 0.75345152, -0.88640526, -0.49160182,  0.59369717],\n",
              "       [ 0.77077224,  1.12815215, -0.99396865,  0.6320435 ],\n",
              "       [ 0.78809297,  1.12815215, -0.77866858,  0.6320435 ],\n",
              "       [ 0.80541369,  1.12815215,  0.65666521,  0.6320435 ],\n",
              "       [ 0.82273442, -0.88640526, -0.49160182,  0.6320435 ],\n",
              "       [ 0.84005514, -0.88640526, -0.34806844,  0.67038984],\n",
              "       [ 0.85737587,  1.12815215, -0.34806844,  0.67038984],\n",
              "       [ 0.87469659,  1.12815215,  0.29783176,  0.67038984],\n",
              "       [ 0.89201732,  1.12815215,  0.010765  ,  0.67038984],\n",
              "       [ 0.90933804, -0.88640526,  0.36959845,  0.67038984],\n",
              "       [ 0.92665877, -0.88640526, -0.06100169,  0.67038984],\n",
              "       [ 0.94397949, -0.88640526,  0.58489852,  0.67038984],\n",
              "       [ 0.96130021, -0.88640526, -0.85043527,  0.67038984],\n",
              "       [ 0.97862094,  1.12815215, -0.13276838,  0.67038984],\n",
              "       [ 0.99594166, -0.88640526, -0.6351352 ,  0.67038984],\n",
              "       [ 1.01326239,  1.12815215, -0.34806844,  0.67038984],\n",
              "       [ 1.03058311, -0.88640526, -0.6351352 ,  0.67038984],\n",
              "       [ 1.04790384, -0.88640526,  1.23079873,  0.70873618],\n",
              "       [ 1.06522456, -0.88640526, -0.70690189,  0.70873618],\n",
              "       [ 1.08254529,  1.12815215, -1.42456879,  0.78542885],\n",
              "       [ 1.09986601, -0.88640526, -0.56336851,  0.78542885],\n",
              "       [ 1.11718674,  1.12815215,  0.80019859,  0.9388142 ],\n",
              "       [ 1.13450746, -0.88640526, -0.20453507,  0.9388142 ],\n",
              "       [ 1.15182818,  1.12815215,  0.22606507,  0.97716054],\n",
              "       [ 1.16914891, -0.88640526, -0.41983513,  0.97716054],\n",
              "       [ 1.18646963, -0.88640526, -0.20453507,  1.01550688],\n",
              "       [ 1.20379036,  1.12815215, -0.49160182,  1.01550688],\n",
              "       [ 1.22111108,  1.12815215,  0.08253169,  1.01550688],\n",
              "       [ 1.23843181,  1.12815215, -0.77866858,  1.01550688],\n",
              "       [ 1.25575253,  1.12815215, -0.20453507,  1.01550688],\n",
              "       [ 1.27307326,  1.12815215, -0.20453507,  1.01550688],\n",
              "       [ 1.29039398, -0.88640526,  0.94373197,  1.05385321],\n",
              "       [ 1.30771471, -0.88640526, -0.6351352 ,  1.05385321],\n",
              "       [ 1.32503543,  1.12815215,  1.37433211,  1.05385321],\n",
              "       [ 1.34235616,  1.12815215, -0.85043527,  1.05385321],\n",
              "       [ 1.35967688,  1.12815215,  1.4460988 ,  1.2455849 ],\n",
              "       [ 1.3769976 ,  1.12815215, -0.27630176,  1.2455849 ],\n",
              "       [ 1.39431833, -0.88640526, -0.13276838,  1.39897025],\n",
              "       [ 1.41163905, -0.88640526, -0.49160182,  1.39897025],\n",
              "       [ 1.42895978,  1.12815215,  0.51313183,  1.43731659],\n",
              "       [ 1.4462805 , -0.88640526, -0.70690189,  1.43731659],\n",
              "       [ 1.46360123, -0.88640526,  0.15429838,  1.47566292],\n",
              "       [ 1.48092195,  1.12815215, -0.6351352 ,  1.47566292],\n",
              "       [ 1.49824268, -0.88640526,  1.08726535,  1.5523556 ],\n",
              "       [ 1.5155634 ,  1.12815215, -0.77866858,  1.5523556 ],\n",
              "       [ 1.53288413, -0.88640526,  0.15429838,  1.62904827],\n",
              "       [ 1.55020485, -0.88640526, -0.20453507,  1.62904827],\n",
              "       [ 1.56752558, -0.88640526, -0.34806844,  1.62904827],\n",
              "       [ 1.5848463 , -0.88640526, -0.49160182,  1.62904827],\n",
              "       [ 1.60216702,  1.12815215, -0.41983513,  2.01251165],\n",
              "       [ 1.61948775, -0.88640526, -0.06100169,  2.01251165],\n",
              "       [ 1.63680847, -0.88640526,  0.58489852,  2.28093601],\n",
              "       [ 1.6541292 , -0.88640526, -0.27630176,  2.28093601],\n",
              "       [ 1.67144992, -0.88640526,  0.44136514,  2.51101403],\n",
              "       [ 1.68877065,  1.12815215, -0.49160182,  2.51101403],\n",
              "       [ 1.70609137,  1.12815215, -0.49160182,  2.76985181],\n",
              "       [ 1.7234121 ,  1.12815215, -0.6351352 ,  2.76985181]])"
            ]
          },
          "metadata": {},
          "execution_count": 76
        }
      ],
      "source": [
        "x"
      ]
    },
    {
      "cell_type": "markdown",
      "metadata": {
        "id": "dsL9MjRIHc8k"
      },
      "source": [
        "#9. Perform any of the clustering algorithms\n",
        "#10. Add the cluster data with the primary dataset"
      ]
    },
    {
      "cell_type": "markdown",
      "source": [
        "## K Means Clustering"
      ],
      "metadata": {
        "id": "JQJS4QoXCbBs"
      }
    },
    {
      "cell_type": "markdown",
      "source": [
        "# 11. Split the data into dependent and independent variables."
      ],
      "metadata": {
        "id": "53jYdms6E57a"
      }
    },
    {
      "cell_type": "code",
      "source": [
        "x=df.iloc[:,:-1]\n",
        "x.head()"
      ],
      "metadata": {
        "colab": {
          "base_uri": "https://localhost:8080/",
          "height": 206
        },
        "id": "ZGT36SpTC8Sc",
        "outputId": "ae568ee2-bbcb-4c71-f75c-20b00ef1d68d"
      },
      "execution_count": 71,
      "outputs": [
        {
          "output_type": "execute_result",
          "data": {
            "text/plain": [
              "   CustomerID  Gender   Age  Annual Income (k$)\n",
              "0         1.0       1  19.0                15.0\n",
              "1         2.0       1  21.0                15.0\n",
              "2         3.0       0  20.0                16.0\n",
              "3         4.0       0  23.0                16.0\n",
              "4         5.0       0  31.0                17.0"
            ],
            "text/html": [
              "\n",
              "  <div id=\"df-28d38e5d-c718-4a67-8090-cb6f2af4a2c2\">\n",
              "    <div class=\"colab-df-container\">\n",
              "      <div>\n",
              "<style scoped>\n",
              "    .dataframe tbody tr th:only-of-type {\n",
              "        vertical-align: middle;\n",
              "    }\n",
              "\n",
              "    .dataframe tbody tr th {\n",
              "        vertical-align: top;\n",
              "    }\n",
              "\n",
              "    .dataframe thead th {\n",
              "        text-align: right;\n",
              "    }\n",
              "</style>\n",
              "<table border=\"1\" class=\"dataframe\">\n",
              "  <thead>\n",
              "    <tr style=\"text-align: right;\">\n",
              "      <th></th>\n",
              "      <th>CustomerID</th>\n",
              "      <th>Gender</th>\n",
              "      <th>Age</th>\n",
              "      <th>Annual Income (k$)</th>\n",
              "    </tr>\n",
              "  </thead>\n",
              "  <tbody>\n",
              "    <tr>\n",
              "      <th>0</th>\n",
              "      <td>1.0</td>\n",
              "      <td>1</td>\n",
              "      <td>19.0</td>\n",
              "      <td>15.0</td>\n",
              "    </tr>\n",
              "    <tr>\n",
              "      <th>1</th>\n",
              "      <td>2.0</td>\n",
              "      <td>1</td>\n",
              "      <td>21.0</td>\n",
              "      <td>15.0</td>\n",
              "    </tr>\n",
              "    <tr>\n",
              "      <th>2</th>\n",
              "      <td>3.0</td>\n",
              "      <td>0</td>\n",
              "      <td>20.0</td>\n",
              "      <td>16.0</td>\n",
              "    </tr>\n",
              "    <tr>\n",
              "      <th>3</th>\n",
              "      <td>4.0</td>\n",
              "      <td>0</td>\n",
              "      <td>23.0</td>\n",
              "      <td>16.0</td>\n",
              "    </tr>\n",
              "    <tr>\n",
              "      <th>4</th>\n",
              "      <td>5.0</td>\n",
              "      <td>0</td>\n",
              "      <td>31.0</td>\n",
              "      <td>17.0</td>\n",
              "    </tr>\n",
              "  </tbody>\n",
              "</table>\n",
              "</div>\n",
              "      <button class=\"colab-df-convert\" onclick=\"convertToInteractive('df-28d38e5d-c718-4a67-8090-cb6f2af4a2c2')\"\n",
              "              title=\"Convert this dataframe to an interactive table.\"\n",
              "              style=\"display:none;\">\n",
              "        \n",
              "  <svg xmlns=\"http://www.w3.org/2000/svg\" height=\"24px\"viewBox=\"0 0 24 24\"\n",
              "       width=\"24px\">\n",
              "    <path d=\"M0 0h24v24H0V0z\" fill=\"none\"/>\n",
              "    <path d=\"M18.56 5.44l.94 2.06.94-2.06 2.06-.94-2.06-.94-.94-2.06-.94 2.06-2.06.94zm-11 1L8.5 8.5l.94-2.06 2.06-.94-2.06-.94L8.5 2.5l-.94 2.06-2.06.94zm10 10l.94 2.06.94-2.06 2.06-.94-2.06-.94-.94-2.06-.94 2.06-2.06.94z\"/><path d=\"M17.41 7.96l-1.37-1.37c-.4-.4-.92-.59-1.43-.59-.52 0-1.04.2-1.43.59L10.3 9.45l-7.72 7.72c-.78.78-.78 2.05 0 2.83L4 21.41c.39.39.9.59 1.41.59.51 0 1.02-.2 1.41-.59l7.78-7.78 2.81-2.81c.8-.78.8-2.07 0-2.86zM5.41 20L4 18.59l7.72-7.72 1.47 1.35L5.41 20z\"/>\n",
              "  </svg>\n",
              "      </button>\n",
              "      \n",
              "  <style>\n",
              "    .colab-df-container {\n",
              "      display:flex;\n",
              "      flex-wrap:wrap;\n",
              "      gap: 12px;\n",
              "    }\n",
              "\n",
              "    .colab-df-convert {\n",
              "      background-color: #E8F0FE;\n",
              "      border: none;\n",
              "      border-radius: 50%;\n",
              "      cursor: pointer;\n",
              "      display: none;\n",
              "      fill: #1967D2;\n",
              "      height: 32px;\n",
              "      padding: 0 0 0 0;\n",
              "      width: 32px;\n",
              "    }\n",
              "\n",
              "    .colab-df-convert:hover {\n",
              "      background-color: #E2EBFA;\n",
              "      box-shadow: 0px 1px 2px rgba(60, 64, 67, 0.3), 0px 1px 3px 1px rgba(60, 64, 67, 0.15);\n",
              "      fill: #174EA6;\n",
              "    }\n",
              "\n",
              "    [theme=dark] .colab-df-convert {\n",
              "      background-color: #3B4455;\n",
              "      fill: #D2E3FC;\n",
              "    }\n",
              "\n",
              "    [theme=dark] .colab-df-convert:hover {\n",
              "      background-color: #434B5C;\n",
              "      box-shadow: 0px 1px 3px 1px rgba(0, 0, 0, 0.15);\n",
              "      filter: drop-shadow(0px 1px 2px rgba(0, 0, 0, 0.3));\n",
              "      fill: #FFFFFF;\n",
              "    }\n",
              "  </style>\n",
              "\n",
              "      <script>\n",
              "        const buttonEl =\n",
              "          document.querySelector('#df-28d38e5d-c718-4a67-8090-cb6f2af4a2c2 button.colab-df-convert');\n",
              "        buttonEl.style.display =\n",
              "          google.colab.kernel.accessAllowed ? 'block' : 'none';\n",
              "\n",
              "        async function convertToInteractive(key) {\n",
              "          const element = document.querySelector('#df-28d38e5d-c718-4a67-8090-cb6f2af4a2c2');\n",
              "          const dataTable =\n",
              "            await google.colab.kernel.invokeFunction('convertToInteractive',\n",
              "                                                     [key], {});\n",
              "          if (!dataTable) return;\n",
              "\n",
              "          const docLinkHtml = 'Like what you see? Visit the ' +\n",
              "            '<a target=\"_blank\" href=https://colab.research.google.com/notebooks/data_table.ipynb>data table notebook</a>'\n",
              "            + ' to learn more about interactive tables.';\n",
              "          element.innerHTML = '';\n",
              "          dataTable['output_type'] = 'display_data';\n",
              "          await google.colab.output.renderOutput(dataTable, element);\n",
              "          const docLink = document.createElement('div');\n",
              "          docLink.innerHTML = docLinkHtml;\n",
              "          element.appendChild(docLink);\n",
              "        }\n",
              "      </script>\n",
              "    </div>\n",
              "  </div>\n",
              "  "
            ]
          },
          "metadata": {},
          "execution_count": 71
        }
      ]
    },
    {
      "cell_type": "code",
      "source": [
        "y=df.iloc[:,-1]\n",
        "y.head()"
      ],
      "metadata": {
        "colab": {
          "base_uri": "https://localhost:8080/"
        },
        "id": "9fjY0zgbC8Nt",
        "outputId": "59466eda-1043-4756-ab81-8a58dcd7820b"
      },
      "execution_count": 74,
      "outputs": [
        {
          "output_type": "execute_result",
          "data": {
            "text/plain": [
              "0    39.0\n",
              "1    81.0\n",
              "2     6.0\n",
              "3    77.0\n",
              "4    40.0\n",
              "Name: Spending Score (1-100), dtype: float64"
            ]
          },
          "metadata": {},
          "execution_count": 74
        }
      ]
    },
    {
      "cell_type": "markdown",
      "source": [
        "# 12. Split the data into training and testing"
      ],
      "metadata": {
        "id": "wJStWmh-FOgk"
      }
    },
    {
      "cell_type": "code",
      "source": [
        "from sklearn.model_selection import train_test_split\n",
        "x_train,x_test,y_train,y_test=train_test_split(x,y,test_size=0.33)"
      ],
      "metadata": {
        "id": "IQVd0EfAEB_1"
      },
      "execution_count": 79,
      "outputs": []
    },
    {
      "cell_type": "code",
      "source": [
        "x_train.shape"
      ],
      "metadata": {
        "colab": {
          "base_uri": "https://localhost:8080/"
        },
        "id": "pu_Chm6iFcks",
        "outputId": "fcbcf919-be9e-4e2f-e7a2-101821d486c3"
      },
      "execution_count": 80,
      "outputs": [
        {
          "output_type": "execute_result",
          "data": {
            "text/plain": [
              "(134, 4)"
            ]
          },
          "metadata": {},
          "execution_count": 80
        }
      ]
    },
    {
      "cell_type": "code",
      "source": [
        "x_test.shape"
      ],
      "metadata": {
        "colab": {
          "base_uri": "https://localhost:8080/"
        },
        "id": "lZYoHpmaFfLk",
        "outputId": "4955b390-cbfb-4d69-a1f4-a35a70dc3a50"
      },
      "execution_count": 81,
      "outputs": [
        {
          "output_type": "execute_result",
          "data": {
            "text/plain": [
              "(66, 4)"
            ]
          },
          "metadata": {},
          "execution_count": 81
        }
      ]
    },
    {
      "cell_type": "code",
      "source": [
        "y_train.shape"
      ],
      "metadata": {
        "colab": {
          "base_uri": "https://localhost:8080/"
        },
        "id": "EpcGawsRFkbw",
        "outputId": "829ba0d9-5dfe-4693-c7b3-7ae1c159ea5b"
      },
      "execution_count": 82,
      "outputs": [
        {
          "output_type": "execute_result",
          "data": {
            "text/plain": [
              "(134,)"
            ]
          },
          "metadata": {},
          "execution_count": 82
        }
      ]
    },
    {
      "cell_type": "code",
      "source": [
        "y_test.shape"
      ],
      "metadata": {
        "colab": {
          "base_uri": "https://localhost:8080/"
        },
        "id": "0m7WWzivFiKI",
        "outputId": "91b7ebf2-d3d6-43fa-a0a5-84ea18f750e3"
      },
      "execution_count": 83,
      "outputs": [
        {
          "output_type": "execute_result",
          "data": {
            "text/plain": [
              "(66,)"
            ]
          },
          "metadata": {},
          "execution_count": 83
        }
      ]
    },
    {
      "cell_type": "markdown",
      "source": [
        "#13. Build the Model\n",
        "#14. Train the Model\n",
        "#15. Test the Model\n",
        "#16. Measure the performance using Evaluation Metrics."
      ],
      "metadata": {
        "id": "zDn7CAj6Gcrv"
      }
    },
    {
      "cell_type": "code",
      "source": [
        "data=df.iloc[:,[3,4]].values\n",
        "from sklearn.cluster import KMeans\n",
        "wcss=[] # within cluster sum of square\n",
        "for i in range(1,11):\n",
        "    kmeans=KMeans(n_clusters=i, init='k-means++',random_state=0)\n",
        "    kmeans.fit(data)\n",
        "    wcss.append(kmeans.inertia_) #inertia_ = to find the wcss value\n",
        "\n",
        "plt.plot(range(1,11),wcss)\n",
        "plt.title('The Elbow Method')\n",
        "plt.xlabel('Number of Clusters')\n",
        "plt.ylabel('WCSS')\n",
        "plt.show()"
      ],
      "metadata": {
        "colab": {
          "base_uri": "https://localhost:8080/",
          "height": 295
        },
        "id": "1xzGQJChByam",
        "outputId": "53b4a18d-7959-4b45-d187-693b67d3ffdf"
      },
      "execution_count": 77,
      "outputs": [
        {
          "output_type": "display_data",
          "data": {
            "text/plain": [
              "<Figure size 432x288 with 1 Axes>"
            ],
            "image/png": "[encoded data removed]"
          },
          "metadata": {
            "needs_background": "light"
          }
        }
      ]
    },
    {
      "cell_type": "code",
      "source": [
        "kmeans=KMeans(n_clusters=5,init='k-means++',random_state=0)\n",
        "y_kmeans=kmeans.fit_predict(data)\n",
        "\n",
        "#plotting the the clusters\n",
        "fig,ax = plt.subplots(figsize=(14,6))\n",
        "ax.scatter(data[y_kmeans==0,0],data[y_kmeans==0,1],s=100,c='red',label='Cluster 1')\n",
        "ax.scatter(data[y_kmeans==1,0],data[y_kmeans==1,1],s=100,c='blue',label='Cluster 2')\n",
        "ax.scatter(data[y_kmeans==2,0],data[y_kmeans==2,1],s=100,c='green',label='Cluster 3')\n",
        "ax.scatter(data[y_kmeans==3,0],data[y_kmeans==3,1],s=100,c='cyan',label='Cluster 4')\n",
        "ax.scatter(data[y_kmeans==4,0],data[y_kmeans==4,1],s=100,c='magenta',label='Cluster 5')\n",
        "\n",
        "ax.scatter(kmeans.cluster_centers_[:,0],kmeans.cluster_centers_[:,1],s=400,c='yellow',label='Centroid')\n",
        "plt.title('Cluster Segmentation of Customers')\n",
        "plt.xlabel('Annual Income(K$)')\n",
        "plt.ylabel('Spending Score(1-100)')\n",
        "plt.legend()\n",
        "plt.show()"
      ],
      "metadata": {
        "colab": {
          "base_uri": "https://localhost:8080/",
          "height": 404
        },
        "id": "6qfBzen1B8mE",
        "outputId": "7e3cfcba-67b3-48bd-8b57-4e8413842614"
      },
      "execution_count": 78,
      "outputs": [
        {
          "output_type": "display_data",
          "data": {
            "text/plain": [
              "<Figure size 1008x432 with 1 Axes>"
            ],
            "image/png": "[encoded data removed]"
          },
          "metadata": {
            "needs_background": "light"
          }
        }
      ]
    }
  ],
  "metadata": {
    "kernelspec": {
      "display_name": "Python 3",
      "language": "python",
      "name": "python3"
    },
    "language_info": {
      "codemirror_mode": {
        "name": "ipython",
        "version": 3
      },
      "file_extension": ".py",
      "mimetype": "text/x-python",
      "name": "python",
      "nbconvert_exporter": "python",
      "pygments_lexer": "ipython3",
      "version": "3.8.3"
    },
    "colab": {
      "provenance": [],
      "collapsed_sections": []
    }
  },
  "nbformat": 4,
  "nbformat_minor": 0
}